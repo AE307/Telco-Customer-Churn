{
  "nbformat": 4,
  "nbformat_minor": 0,
  "metadata": {
    "colab": {
      "provenance": [],
      "collapsed_sections": [
        "yEQCVsXFugBM",
        "vZXjkdMvu8Dz",
        "8oZHcKiivBwk",
        "xvXmwoHcvGqv"
      ]
    },
    "kernelspec": {
      "name": "python3",
      "display_name": "Python 3"
    },
    "language_info": {
      "name": "python"
    }
  },
  "cells": [
    {
      "cell_type": "markdown",
      "source": [
        "dataset link: https://www.kaggle.com/datasets/blastchar/telco-customer-churn?resource=download"
      ],
      "metadata": {
        "id": "KNdsm5Xkwiuw"
      }
    },
    {
      "cell_type": "markdown",
      "source": [
        "# Imports"
      ],
      "metadata": {
        "id": "se67siaguPmA"
      }
    },
    {
      "cell_type": "code",
      "execution_count": null,
      "metadata": {
        "id": "Vp9VJq_bMnUz"
      },
      "outputs": [],
      "source": [
        "import pandas as pd\n",
        "import numpy as np\n",
        "from sklearn.model_selection import train_test_split\n",
        "from sklearn.preprocessing import StandardScaler\n",
        "from sklearn.neighbors import KNeighborsClassifier\n",
        "from sklearn.tree import DecisionTreeClassifier\n",
        "from sklearn.ensemble import RandomForestClassifier\n",
        "from sklearn.linear_model import SGDClassifier\n",
        "from sklearn import svm\n",
        "from sklearn.metrics import accuracy_score\n",
        "from sklearn.metrics import confusion_matrix\n",
        "from sklearn.preprocessing import LabelEncoder\n",
        "from sklearn.metrics import classification_report"
      ]
    },
    {
      "cell_type": "markdown",
      "source": [
        "# Reading the dataset"
      ],
      "metadata": {
        "id": "yEQCVsXFugBM"
      }
    },
    {
      "cell_type": "code",
      "source": [
        "telcoDataset = pd.read_csv('Telco-Customer-Churn.csv')"
      ],
      "metadata": {
        "id": "MxaLznOOucue"
      },
      "execution_count": null,
      "outputs": []
    },
    {
      "cell_type": "code",
      "source": [
        "telcoDataset.head(5)"
      ],
      "metadata": {
        "id": "pRd8XvoZN-LL",
        "colab": {
          "base_uri": "https://localhost:8080/",
          "height": 340
        },
        "outputId": "6d988181-9c36-428a-8d1a-2d322c3f8bf2"
      },
      "execution_count": null,
      "outputs": [
        {
          "output_type": "execute_result",
          "data": {
            "text/plain": [
              "   gender  SeniorCitizen Partner Dependents  tenure PhoneService  \\\n",
              "0  Female              0     Yes         No       1           No   \n",
              "1    Male              0      No         No      34          Yes   \n",
              "2    Male              0      No         No       2          Yes   \n",
              "3    Male              0      No         No      45           No   \n",
              "4  Female              0      No         No       2          Yes   \n",
              "\n",
              "      MultipleLines InternetService OnlineSecurity OnlineBackup  \\\n",
              "0  No phone service             DSL             No          Yes   \n",
              "1                No             DSL            Yes           No   \n",
              "2                No             DSL            Yes          Yes   \n",
              "3  No phone service             DSL            Yes           No   \n",
              "4                No     Fiber optic             No           No   \n",
              "\n",
              "  DeviceProtection TechSupport StreamingTV StreamingMovies        Contract  \\\n",
              "0               No          No          No              No  Month-to-month   \n",
              "1              Yes          No          No              No        One year   \n",
              "2               No          No          No              No  Month-to-month   \n",
              "3              Yes         Yes          No              No        One year   \n",
              "4               No          No          No              No  Month-to-month   \n",
              "\n",
              "  PaperlessBilling              PaymentMethod  MonthlyCharges TotalCharges  \\\n",
              "0              Yes           Electronic check           29.85        29.85   \n",
              "1               No               Mailed check           56.95       1889.5   \n",
              "2              Yes               Mailed check           53.85       108.15   \n",
              "3               No  Bank transfer (automatic)           42.30      1840.75   \n",
              "4              Yes           Electronic check           70.70       151.65   \n",
              "\n",
              "  Churn  \n",
              "0    No  \n",
              "1    No  \n",
              "2   Yes  \n",
              "3    No  \n",
              "4   Yes  "
            ],
            "text/html": [
              "\n",
              "  <div id=\"df-26d0cdc3-7f23-4b91-b683-0816287397a4\">\n",
              "    <div class=\"colab-df-container\">\n",
              "      <div>\n",
              "<style scoped>\n",
              "    .dataframe tbody tr th:only-of-type {\n",
              "        vertical-align: middle;\n",
              "    }\n",
              "\n",
              "    .dataframe tbody tr th {\n",
              "        vertical-align: top;\n",
              "    }\n",
              "\n",
              "    .dataframe thead th {\n",
              "        text-align: right;\n",
              "    }\n",
              "</style>\n",
              "<table border=\"1\" class=\"dataframe\">\n",
              "  <thead>\n",
              "    <tr style=\"text-align: right;\">\n",
              "      <th></th>\n",
              "      <th>gender</th>\n",
              "      <th>SeniorCitizen</th>\n",
              "      <th>Partner</th>\n",
              "      <th>Dependents</th>\n",
              "      <th>tenure</th>\n",
              "      <th>PhoneService</th>\n",
              "      <th>MultipleLines</th>\n",
              "      <th>InternetService</th>\n",
              "      <th>OnlineSecurity</th>\n",
              "      <th>OnlineBackup</th>\n",
              "      <th>DeviceProtection</th>\n",
              "      <th>TechSupport</th>\n",
              "      <th>StreamingTV</th>\n",
              "      <th>StreamingMovies</th>\n",
              "      <th>Contract</th>\n",
              "      <th>PaperlessBilling</th>\n",
              "      <th>PaymentMethod</th>\n",
              "      <th>MonthlyCharges</th>\n",
              "      <th>TotalCharges</th>\n",
              "      <th>Churn</th>\n",
              "    </tr>\n",
              "  </thead>\n",
              "  <tbody>\n",
              "    <tr>\n",
              "      <th>0</th>\n",
              "      <td>Female</td>\n",
              "      <td>0</td>\n",
              "      <td>Yes</td>\n",
              "      <td>No</td>\n",
              "      <td>1</td>\n",
              "      <td>No</td>\n",
              "      <td>No phone service</td>\n",
              "      <td>DSL</td>\n",
              "      <td>No</td>\n",
              "      <td>Yes</td>\n",
              "      <td>No</td>\n",
              "      <td>No</td>\n",
              "      <td>No</td>\n",
              "      <td>No</td>\n",
              "      <td>Month-to-month</td>\n",
              "      <td>Yes</td>\n",
              "      <td>Electronic check</td>\n",
              "      <td>29.85</td>\n",
              "      <td>29.85</td>\n",
              "      <td>No</td>\n",
              "    </tr>\n",
              "    <tr>\n",
              "      <th>1</th>\n",
              "      <td>Male</td>\n",
              "      <td>0</td>\n",
              "      <td>No</td>\n",
              "      <td>No</td>\n",
              "      <td>34</td>\n",
              "      <td>Yes</td>\n",
              "      <td>No</td>\n",
              "      <td>DSL</td>\n",
              "      <td>Yes</td>\n",
              "      <td>No</td>\n",
              "      <td>Yes</td>\n",
              "      <td>No</td>\n",
              "      <td>No</td>\n",
              "      <td>No</td>\n",
              "      <td>One year</td>\n",
              "      <td>No</td>\n",
              "      <td>Mailed check</td>\n",
              "      <td>56.95</td>\n",
              "      <td>1889.5</td>\n",
              "      <td>No</td>\n",
              "    </tr>\n",
              "    <tr>\n",
              "      <th>2</th>\n",
              "      <td>Male</td>\n",
              "      <td>0</td>\n",
              "      <td>No</td>\n",
              "      <td>No</td>\n",
              "      <td>2</td>\n",
              "      <td>Yes</td>\n",
              "      <td>No</td>\n",
              "      <td>DSL</td>\n",
              "      <td>Yes</td>\n",
              "      <td>Yes</td>\n",
              "      <td>No</td>\n",
              "      <td>No</td>\n",
              "      <td>No</td>\n",
              "      <td>No</td>\n",
              "      <td>Month-to-month</td>\n",
              "      <td>Yes</td>\n",
              "      <td>Mailed check</td>\n",
              "      <td>53.85</td>\n",
              "      <td>108.15</td>\n",
              "      <td>Yes</td>\n",
              "    </tr>\n",
              "    <tr>\n",
              "      <th>3</th>\n",
              "      <td>Male</td>\n",
              "      <td>0</td>\n",
              "      <td>No</td>\n",
              "      <td>No</td>\n",
              "      <td>45</td>\n",
              "      <td>No</td>\n",
              "      <td>No phone service</td>\n",
              "      <td>DSL</td>\n",
              "      <td>Yes</td>\n",
              "      <td>No</td>\n",
              "      <td>Yes</td>\n",
              "      <td>Yes</td>\n",
              "      <td>No</td>\n",
              "      <td>No</td>\n",
              "      <td>One year</td>\n",
              "      <td>No</td>\n",
              "      <td>Bank transfer (automatic)</td>\n",
              "      <td>42.30</td>\n",
              "      <td>1840.75</td>\n",
              "      <td>No</td>\n",
              "    </tr>\n",
              "    <tr>\n",
              "      <th>4</th>\n",
              "      <td>Female</td>\n",
              "      <td>0</td>\n",
              "      <td>No</td>\n",
              "      <td>No</td>\n",
              "      <td>2</td>\n",
              "      <td>Yes</td>\n",
              "      <td>No</td>\n",
              "      <td>Fiber optic</td>\n",
              "      <td>No</td>\n",
              "      <td>No</td>\n",
              "      <td>No</td>\n",
              "      <td>No</td>\n",
              "      <td>No</td>\n",
              "      <td>No</td>\n",
              "      <td>Month-to-month</td>\n",
              "      <td>Yes</td>\n",
              "      <td>Electronic check</td>\n",
              "      <td>70.70</td>\n",
              "      <td>151.65</td>\n",
              "      <td>Yes</td>\n",
              "    </tr>\n",
              "  </tbody>\n",
              "</table>\n",
              "</div>\n",
              "      <button class=\"colab-df-convert\" onclick=\"convertToInteractive('df-26d0cdc3-7f23-4b91-b683-0816287397a4')\"\n",
              "              title=\"Convert this dataframe to an interactive table.\"\n",
              "              style=\"display:none;\">\n",
              "        \n",
              "  <svg xmlns=\"http://www.w3.org/2000/svg\" height=\"24px\"viewBox=\"0 0 24 24\"\n",
              "       width=\"24px\">\n",
              "    <path d=\"M0 0h24v24H0V0z\" fill=\"none\"/>\n",
              "    <path d=\"M18.56 5.44l.94 2.06.94-2.06 2.06-.94-2.06-.94-.94-2.06-.94 2.06-2.06.94zm-11 1L8.5 8.5l.94-2.06 2.06-.94-2.06-.94L8.5 2.5l-.94 2.06-2.06.94zm10 10l.94 2.06.94-2.06 2.06-.94-2.06-.94-.94-2.06-.94 2.06-2.06.94z\"/><path d=\"M17.41 7.96l-1.37-1.37c-.4-.4-.92-.59-1.43-.59-.52 0-1.04.2-1.43.59L10.3 9.45l-7.72 7.72c-.78.78-.78 2.05 0 2.83L4 21.41c.39.39.9.59 1.41.59.51 0 1.02-.2 1.41-.59l7.78-7.78 2.81-2.81c.8-.78.8-2.07 0-2.86zM5.41 20L4 18.59l7.72-7.72 1.47 1.35L5.41 20z\"/>\n",
              "  </svg>\n",
              "      </button>\n",
              "      \n",
              "  <style>\n",
              "    .colab-df-container {\n",
              "      display:flex;\n",
              "      flex-wrap:wrap;\n",
              "      gap: 12px;\n",
              "    }\n",
              "\n",
              "    .colab-df-convert {\n",
              "      background-color: #E8F0FE;\n",
              "      border: none;\n",
              "      border-radius: 50%;\n",
              "      cursor: pointer;\n",
              "      display: none;\n",
              "      fill: #1967D2;\n",
              "      height: 32px;\n",
              "      padding: 0 0 0 0;\n",
              "      width: 32px;\n",
              "    }\n",
              "\n",
              "    .colab-df-convert:hover {\n",
              "      background-color: #E2EBFA;\n",
              "      box-shadow: 0px 1px 2px rgba(60, 64, 67, 0.3), 0px 1px 3px 1px rgba(60, 64, 67, 0.15);\n",
              "      fill: #174EA6;\n",
              "    }\n",
              "\n",
              "    [theme=dark] .colab-df-convert {\n",
              "      background-color: #3B4455;\n",
              "      fill: #D2E3FC;\n",
              "    }\n",
              "\n",
              "    [theme=dark] .colab-df-convert:hover {\n",
              "      background-color: #434B5C;\n",
              "      box-shadow: 0px 1px 3px 1px rgba(0, 0, 0, 0.15);\n",
              "      filter: drop-shadow(0px 1px 2px rgba(0, 0, 0, 0.3));\n",
              "      fill: #FFFFFF;\n",
              "    }\n",
              "  </style>\n",
              "\n",
              "      <script>\n",
              "        const buttonEl =\n",
              "          document.querySelector('#df-26d0cdc3-7f23-4b91-b683-0816287397a4 button.colab-df-convert');\n",
              "        buttonEl.style.display =\n",
              "          google.colab.kernel.accessAllowed ? 'block' : 'none';\n",
              "\n",
              "        async function convertToInteractive(key) {\n",
              "          const element = document.querySelector('#df-26d0cdc3-7f23-4b91-b683-0816287397a4');\n",
              "          const dataTable =\n",
              "            await google.colab.kernel.invokeFunction('convertToInteractive',\n",
              "                                                     [key], {});\n",
              "          if (!dataTable) return;\n",
              "\n",
              "          const docLinkHtml = 'Like what you see? Visit the ' +\n",
              "            '<a target=\"_blank\" href=https://colab.research.google.com/notebooks/data_table.ipynb>data table notebook</a>'\n",
              "            + ' to learn more about interactive tables.';\n",
              "          element.innerHTML = '';\n",
              "          dataTable['output_type'] = 'display_data';\n",
              "          await google.colab.output.renderOutput(dataTable, element);\n",
              "          const docLink = document.createElement('div');\n",
              "          docLink.innerHTML = docLinkHtml;\n",
              "          element.appendChild(docLink);\n",
              "        }\n",
              "      </script>\n",
              "    </div>\n",
              "  </div>\n",
              "  "
            ]
          },
          "metadata": {},
          "execution_count": 29
        }
      ]
    },
    {
      "cell_type": "code",
      "source": [
        "telcoDataset.info()"
      ],
      "metadata": {
        "id": "J_NY2dqDPuJR",
        "colab": {
          "base_uri": "https://localhost:8080/"
        },
        "outputId": "8e1a763b-46ab-4b76-d67b-3dfd01c5bba3"
      },
      "execution_count": null,
      "outputs": [
        {
          "output_type": "stream",
          "name": "stdout",
          "text": [
            "<class 'pandas.core.frame.DataFrame'>\n",
            "RangeIndex: 7043 entries, 0 to 7042\n",
            "Data columns (total 20 columns):\n",
            " #   Column            Non-Null Count  Dtype  \n",
            "---  ------            --------------  -----  \n",
            " 0   gender            7043 non-null   object \n",
            " 1   SeniorCitizen     7043 non-null   int64  \n",
            " 2   Partner           7043 non-null   object \n",
            " 3   Dependents        7043 non-null   object \n",
            " 4   tenure            7043 non-null   int64  \n",
            " 5   PhoneService      7043 non-null   object \n",
            " 6   MultipleLines     7043 non-null   object \n",
            " 7   InternetService   7043 non-null   object \n",
            " 8   OnlineSecurity    7043 non-null   object \n",
            " 9   OnlineBackup      7043 non-null   object \n",
            " 10  DeviceProtection  7043 non-null   object \n",
            " 11  TechSupport       7043 non-null   object \n",
            " 12  StreamingTV       7043 non-null   object \n",
            " 13  StreamingMovies   7043 non-null   object \n",
            " 14  Contract          7043 non-null   object \n",
            " 15  PaperlessBilling  7043 non-null   object \n",
            " 16  PaymentMethod     7043 non-null   object \n",
            " 17  MonthlyCharges    7043 non-null   float64\n",
            " 18  TotalCharges      7043 non-null   object \n",
            " 19  Churn             7043 non-null   object \n",
            "dtypes: float64(1), int64(2), object(17)\n",
            "memory usage: 1.1+ MB\n"
          ]
        }
      ]
    },
    {
      "cell_type": "markdown",
      "source": [
        "# Encoding String Values To Integers"
      ],
      "metadata": {
        "id": "vZXjkdMvu8Dz"
      }
    },
    {
      "cell_type": "code",
      "source": [
        "encoder = LabelEncoder()\n",
        "telcoDataset['gender'] = encoder.fit_transform(telcoDataset['gender'])\n",
        "telcoDataset['Partner'] = encoder.fit_transform(telcoDataset['Partner'])\n",
        "telcoDataset['Dependents'] = encoder.fit_transform(telcoDataset['Dependents'])\n",
        "telcoDataset['PhoneService'] = encoder.fit_transform(telcoDataset['PhoneService'])\n",
        "telcoDataset['MultipleLines'] = encoder.fit_transform(telcoDataset['MultipleLines'])\n",
        "telcoDataset['InternetService'] = encoder.fit_transform(telcoDataset['InternetService'])\n",
        "telcoDataset['OnlineSecurity'] = encoder.fit_transform(telcoDataset['OnlineSecurity'])\n",
        "telcoDataset['OnlineBackup'] = encoder.fit_transform(telcoDataset['OnlineBackup'])\n",
        "telcoDataset['DeviceProtection'] = encoder.fit_transform(telcoDataset['DeviceProtection'])\n",
        "telcoDataset['TechSupport'] = encoder.fit_transform(telcoDataset['TechSupport'])\n",
        "telcoDataset['StreamingTV'] = encoder.fit_transform(telcoDataset['StreamingTV'])\n",
        "telcoDataset['StreamingMovies'] = encoder.fit_transform(telcoDataset['StreamingMovies'])\n",
        "telcoDataset['Contract'] = encoder.fit_transform(telcoDataset['Contract'])\n",
        "telcoDataset['PaperlessBilling'] = encoder.fit_transform(telcoDataset['PaperlessBilling'])\n",
        "telcoDataset['PaymentMethod'] = encoder.fit_transform(telcoDataset['PaymentMethod'])\n",
        "telcoDataset['TotalCharges'] = encoder.fit_transform(telcoDataset['TotalCharges'])\n",
        "telcoDataset['Churn'] = encoder.fit_transform(telcoDataset['Churn'])"
      ],
      "metadata": {
        "id": "tF8eyUjsUO7Z"
      },
      "execution_count": null,
      "outputs": []
    },
    {
      "cell_type": "code",
      "source": [
        "telcoDataset.info()"
      ],
      "metadata": {
        "id": "9xzgkDhxXgVa",
        "colab": {
          "base_uri": "https://localhost:8080/"
        },
        "outputId": "cdf02992-4f32-4ef9-87e2-dc8f12b30f6e"
      },
      "execution_count": null,
      "outputs": [
        {
          "output_type": "stream",
          "name": "stdout",
          "text": [
            "<class 'pandas.core.frame.DataFrame'>\n",
            "RangeIndex: 7043 entries, 0 to 7042\n",
            "Data columns (total 20 columns):\n",
            " #   Column            Non-Null Count  Dtype  \n",
            "---  ------            --------------  -----  \n",
            " 0   gender            7043 non-null   int64  \n",
            " 1   SeniorCitizen     7043 non-null   int64  \n",
            " 2   Partner           7043 non-null   int64  \n",
            " 3   Dependents        7043 non-null   int64  \n",
            " 4   tenure            7043 non-null   int64  \n",
            " 5   PhoneService      7043 non-null   int64  \n",
            " 6   MultipleLines     7043 non-null   int64  \n",
            " 7   InternetService   7043 non-null   int64  \n",
            " 8   OnlineSecurity    7043 non-null   int64  \n",
            " 9   OnlineBackup      7043 non-null   int64  \n",
            " 10  DeviceProtection  7043 non-null   int64  \n",
            " 11  TechSupport       7043 non-null   int64  \n",
            " 12  StreamingTV       7043 non-null   int64  \n",
            " 13  StreamingMovies   7043 non-null   int64  \n",
            " 14  Contract          7043 non-null   int64  \n",
            " 15  PaperlessBilling  7043 non-null   int64  \n",
            " 16  PaymentMethod     7043 non-null   int64  \n",
            " 17  MonthlyCharges    7043 non-null   float64\n",
            " 18  TotalCharges      7043 non-null   int64  \n",
            " 19  Churn             7043 non-null   int64  \n",
            "dtypes: float64(1), int64(19)\n",
            "memory usage: 1.1 MB\n"
          ]
        }
      ]
    },
    {
      "cell_type": "markdown",
      "source": [
        "# Splitting the dataset"
      ],
      "metadata": {
        "id": "8oZHcKiivBwk"
      }
    },
    {
      "cell_type": "code",
      "source": [
        "X=telcoDataset.iloc[:,0:19]\n",
        "Y=telcoDataset.iloc[:,19]\n",
        "X_train, X_test, y_train, y_test = train_test_split(X, Y , test_size=0.25)"
      ],
      "metadata": {
        "id": "HldG_CkJYVAt"
      },
      "execution_count": null,
      "outputs": []
    },
    {
      "cell_type": "markdown",
      "source": [
        "# Standardization of data"
      ],
      "metadata": {
        "id": "xvXmwoHcvGqv"
      }
    },
    {
      "cell_type": "code",
      "source": [
        "sc_X = StandardScaler()\n",
        "X_train = sc_X.fit_transform(X_train)\n",
        "X_test = sc_X.fit_transform(X_test)"
      ],
      "metadata": {
        "id": "Hlb5IxctdaE0"
      },
      "execution_count": null,
      "outputs": []
    },
    {
      "cell_type": "markdown",
      "source": [
        "# K-Nearest-Neighbors"
      ],
      "metadata": {
        "id": "7TnA4d00oJGy"
      }
    },
    {
      "cell_type": "markdown",
      "source": [
        "Experiment 1 (n_neighbors=3)"
      ],
      "metadata": {
        "id": "--iRNyLEt3-q"
      }
    },
    {
      "cell_type": "code",
      "source": [
        "knn = KNeighborsClassifier(n_neighbors=3)\n",
        "knn.fit(X_train,y_train)\n",
        "y_pred = knn.predict(X_test)\n",
        "print(accuracy_score(y_test,y_pred))\n",
        "print(confusion_matrix(y_test,y_pred))\n",
        "print(classification_report(y_test, y_pred))"
      ],
      "metadata": {
        "colab": {
          "base_uri": "https://localhost:8080/"
        },
        "id": "EKKLkHmRflGw",
        "outputId": "dab34257-520e-4ade-c3f7-12c3c15979af"
      },
      "execution_count": null,
      "outputs": [
        {
          "output_type": "stream",
          "name": "stdout",
          "text": [
            "0.7512776831345827\n",
            "[[1098  202]\n",
            " [ 236  225]]\n",
            "              precision    recall  f1-score   support\n",
            "\n",
            "           0       0.82      0.84      0.83      1300\n",
            "           1       0.53      0.49      0.51       461\n",
            "\n",
            "    accuracy                           0.75      1761\n",
            "   macro avg       0.68      0.67      0.67      1761\n",
            "weighted avg       0.75      0.75      0.75      1761\n",
            "\n"
          ]
        }
      ]
    },
    {
      "cell_type": "markdown",
      "source": [
        "Experiment 2 (n_neighbors=7)"
      ],
      "metadata": {
        "id": "NyQ0JH99t6bq"
      }
    },
    {
      "cell_type": "code",
      "source": [
        "knn = KNeighborsClassifier(n_neighbors=7)\n",
        "knn.fit(X_train,y_train)\n",
        "y_pred = knn.predict(X_test)\n",
        "print(accuracy_score(y_test,y_pred))\n",
        "print(confusion_matrix(y_test,y_pred))\n",
        "print(classification_report(y_test, y_pred))"
      ],
      "metadata": {
        "colab": {
          "base_uri": "https://localhost:8080/"
        },
        "id": "AFRf6r1Gm9mm",
        "outputId": "a02fb53c-3103-48fa-b428-7e0986d4b587"
      },
      "execution_count": null,
      "outputs": [
        {
          "output_type": "stream",
          "name": "stdout",
          "text": [
            "0.7671777399204998\n",
            "[[1123  177]\n",
            " [ 233  228]]\n",
            "              precision    recall  f1-score   support\n",
            "\n",
            "           0       0.83      0.86      0.85      1300\n",
            "           1       0.56      0.49      0.53       461\n",
            "\n",
            "    accuracy                           0.77      1761\n",
            "   macro avg       0.70      0.68      0.69      1761\n",
            "weighted avg       0.76      0.77      0.76      1761\n",
            "\n"
          ]
        }
      ]
    },
    {
      "cell_type": "markdown",
      "source": [
        "Experiment 3 (n_neighbors=11)"
      ],
      "metadata": {
        "id": "nD7N8JfYt_LH"
      }
    },
    {
      "cell_type": "code",
      "source": [
        "knn = KNeighborsClassifier(n_neighbors=11)\n",
        "knn.fit(X_train,y_train)\n",
        "y_pred = knn.predict(X_test)\n",
        "print(accuracy_score(y_test,y_pred))\n",
        "print(confusion_matrix(y_test,y_pred))\n",
        "print(classification_report(y_test, y_pred))"
      ],
      "metadata": {
        "colab": {
          "base_uri": "https://localhost:8080/"
        },
        "id": "gY-AQ0MuowOS",
        "outputId": "6540855d-b8f7-42e9-e087-846103c8ab31"
      },
      "execution_count": null,
      "outputs": [
        {
          "output_type": "stream",
          "name": "stdout",
          "text": [
            "0.7671777399204998\n",
            "[[1123  177]\n",
            " [ 233  228]]\n",
            "              precision    recall  f1-score   support\n",
            "\n",
            "           0       0.83      0.86      0.85      1300\n",
            "           1       0.56      0.49      0.53       461\n",
            "\n",
            "    accuracy                           0.77      1761\n",
            "   macro avg       0.70      0.68      0.69      1761\n",
            "weighted avg       0.76      0.77      0.76      1761\n",
            "\n"
          ]
        }
      ]
    },
    {
      "cell_type": "markdown",
      "source": [
        "# Decision-Tree-Classifier"
      ],
      "metadata": {
        "id": "aClApyNGpAGM"
      }
    },
    {
      "cell_type": "markdown",
      "source": [
        "Experiment 1 (max_depth=3)"
      ],
      "metadata": {
        "id": "vKRwOAeqtqWB"
      }
    },
    {
      "cell_type": "code",
      "source": [
        "# Expirement 1\n",
        "dtc = DecisionTreeClassifier(max_depth=3)\n",
        "dtc.fit(X_train,y_train)\n",
        "y_pred = dtc.predict(X_test)\n",
        "print(accuracy_score(y_test,y_pred))\n",
        "print(confusion_matrix(y_test,y_pred))\n",
        "print(classification_report(y_test, y_pred))"
      ],
      "metadata": {
        "colab": {
          "base_uri": "https://localhost:8080/"
        },
        "id": "tW8SXGqZgGbc",
        "outputId": "18e1a6b6-6122-413c-f6aa-c61456f56456"
      },
      "execution_count": null,
      "outputs": [
        {
          "output_type": "stream",
          "name": "stdout",
          "text": [
            "0.78137421919364\n",
            "[[1140  160]\n",
            " [ 225  236]]\n",
            "              precision    recall  f1-score   support\n",
            "\n",
            "           0       0.84      0.88      0.86      1300\n",
            "           1       0.60      0.51      0.55       461\n",
            "\n",
            "    accuracy                           0.78      1761\n",
            "   macro avg       0.72      0.69      0.70      1761\n",
            "weighted avg       0.77      0.78      0.78      1761\n",
            "\n"
          ]
        }
      ]
    },
    {
      "cell_type": "markdown",
      "source": [
        "Experiment 2 (max_depth=7)"
      ],
      "metadata": {
        "id": "8kGzzpL-tr5Z"
      }
    },
    {
      "cell_type": "code",
      "source": [
        "# Expirement 2\n",
        "dtc = DecisionTreeClassifier(max_depth=7)\n",
        "dtc.fit(X_train,y_train)\n",
        "y_pred = dtc.predict(X_test)\n",
        "print(accuracy_score(y_test,y_pred))\n",
        "print(confusion_matrix(y_test,y_pred))\n",
        "print(classification_report(y_test, y_pred))"
      ],
      "metadata": {
        "colab": {
          "base_uri": "https://localhost:8080/"
        },
        "id": "R4vta0g3nMZY",
        "outputId": "b66da9f1-5d73-4157-8687-f86ed6d9869c"
      },
      "execution_count": null,
      "outputs": [
        {
          "output_type": "stream",
          "name": "stdout",
          "text": [
            "0.7853492333901193\n",
            "[[1155  145]\n",
            " [ 233  228]]\n",
            "              precision    recall  f1-score   support\n",
            "\n",
            "           0       0.83      0.89      0.86      1300\n",
            "           1       0.61      0.49      0.55       461\n",
            "\n",
            "    accuracy                           0.79      1761\n",
            "   macro avg       0.72      0.69      0.70      1761\n",
            "weighted avg       0.77      0.79      0.78      1761\n",
            "\n"
          ]
        }
      ]
    },
    {
      "cell_type": "markdown",
      "source": [
        "Experiment 3 (max_depth=11)"
      ],
      "metadata": {
        "id": "zTWL4_XXtu8K"
      }
    },
    {
      "cell_type": "code",
      "source": [
        "# Expirement 3\n",
        "dtc = DecisionTreeClassifier(max_depth=11)\n",
        "dtc.fit(X_train,y_train)\n",
        "y_pred = dtc.predict(X_test)\n",
        "print(accuracy_score(y_test,y_pred))\n",
        "print(confusion_matrix(y_test,y_pred))\n",
        "print(classification_report(y_test, y_pred))"
      ],
      "metadata": {
        "colab": {
          "base_uri": "https://localhost:8080/"
        },
        "id": "ggtQLf9TpIdr",
        "outputId": "3cf99253-ab70-4675-e755-e89772805601"
      },
      "execution_count": null,
      "outputs": [
        {
          "output_type": "stream",
          "name": "stdout",
          "text": [
            "0.7473026689381034\n",
            "[[1064  236]\n",
            " [ 209  252]]\n",
            "              precision    recall  f1-score   support\n",
            "\n",
            "           0       0.84      0.82      0.83      1300\n",
            "           1       0.52      0.55      0.53       461\n",
            "\n",
            "    accuracy                           0.75      1761\n",
            "   macro avg       0.68      0.68      0.68      1761\n",
            "weighted avg       0.75      0.75      0.75      1761\n",
            "\n"
          ]
        }
      ]
    },
    {
      "cell_type": "markdown",
      "source": [
        "# Random-Forest-Classifier"
      ],
      "metadata": {
        "id": "83TbhCmkpUVS"
      }
    },
    {
      "cell_type": "markdown",
      "source": [
        "Experiment 1 (max_depth=3)"
      ],
      "metadata": {
        "id": "Z23mTQwVtNGm"
      }
    },
    {
      "cell_type": "code",
      "source": [
        "rfc = RandomForestClassifier(max_depth=3)\n",
        "rfc.fit(X_train,y_train)\n",
        "y_pred = rfc.predict(X_test)\n",
        "print(accuracy_score(y_test,y_pred))\n",
        "print(confusion_matrix(y_test,y_pred))\n",
        "print(classification_report(y_test, y_pred))"
      ],
      "metadata": {
        "colab": {
          "base_uri": "https://localhost:8080/"
        },
        "id": "PTC8isC7jMhx",
        "outputId": "ad2d3820-7a4c-4f97-bcc4-46cacdd76ba6"
      },
      "execution_count": null,
      "outputs": [
        {
          "output_type": "stream",
          "name": "stdout",
          "text": [
            "0.78137421919364\n",
            "[[1233   67]\n",
            " [ 318  143]]\n",
            "              precision    recall  f1-score   support\n",
            "\n",
            "           0       0.79      0.95      0.86      1300\n",
            "           1       0.68      0.31      0.43       461\n",
            "\n",
            "    accuracy                           0.78      1761\n",
            "   macro avg       0.74      0.63      0.65      1761\n",
            "weighted avg       0.77      0.78      0.75      1761\n",
            "\n"
          ]
        }
      ]
    },
    {
      "cell_type": "markdown",
      "source": [
        "Experiment 2 (max_depth=7)"
      ],
      "metadata": {
        "id": "wmKV8rLmtSFa"
      }
    },
    {
      "cell_type": "code",
      "source": [
        "rfc = RandomForestClassifier(max_depth=7)\n",
        "rfc.fit(X_train,y_train)\n",
        "y_pred = rfc.predict(X_test)\n",
        "print(accuracy_score(y_test,y_pred))\n",
        "print(confusion_matrix(y_test,y_pred))\n",
        "print(classification_report(y_test, y_pred))"
      ],
      "metadata": {
        "colab": {
          "base_uri": "https://localhost:8080/"
        },
        "id": "CKieMMTDnwM6",
        "outputId": "a608bd90-a543-42cb-c1f6-ebb225cbbb30"
      },
      "execution_count": null,
      "outputs": [
        {
          "output_type": "stream",
          "name": "stdout",
          "text": [
            "0.8063600227143668\n",
            "[[1199  101]\n",
            " [ 240  221]]\n",
            "              precision    recall  f1-score   support\n",
            "\n",
            "           0       0.83      0.92      0.88      1300\n",
            "           1       0.69      0.48      0.56       461\n",
            "\n",
            "    accuracy                           0.81      1761\n",
            "   macro avg       0.76      0.70      0.72      1761\n",
            "weighted avg       0.79      0.81      0.79      1761\n",
            "\n"
          ]
        }
      ]
    },
    {
      "cell_type": "markdown",
      "source": [
        "Experiment 3 (max_depth=11)"
      ],
      "metadata": {
        "id": "oFSj2g7JteqY"
      }
    },
    {
      "cell_type": "code",
      "source": [
        "# Expirement 3\n",
        "rfc = RandomForestClassifier(max_depth=11)\n",
        "rfc.fit(X_train,y_train)\n",
        "y_pred = rfc.predict(X_test)\n",
        "print(accuracy_score(y_test,y_pred))\n",
        "print(confusion_matrix(y_test,y_pred))\n",
        "print(classification_report(y_test, y_pred))"
      ],
      "metadata": {
        "colab": {
          "base_uri": "https://localhost:8080/"
        },
        "id": "o6Pz3La_pv3W",
        "outputId": "b0f4cc8d-cb4c-4815-b3bd-3a07458786c6"
      },
      "execution_count": null,
      "outputs": [
        {
          "output_type": "stream",
          "name": "stdout",
          "text": [
            "0.8103350369108461\n",
            "[[1188  112]\n",
            " [ 222  239]]\n",
            "              precision    recall  f1-score   support\n",
            "\n",
            "           0       0.84      0.91      0.88      1300\n",
            "           1       0.68      0.52      0.59       461\n",
            "\n",
            "    accuracy                           0.81      1761\n",
            "   macro avg       0.76      0.72      0.73      1761\n",
            "weighted avg       0.80      0.81      0.80      1761\n",
            "\n"
          ]
        }
      ]
    },
    {
      "cell_type": "markdown",
      "source": [
        "# Support-Vector-Machines"
      ],
      "metadata": {
        "id": "K0I9tP3cp4YW"
      }
    },
    {
      "cell_type": "markdown",
      "source": [
        "Experiment 1 (kernel='linear')"
      ],
      "metadata": {
        "id": "0yLP-6AOrONa"
      }
    },
    {
      "cell_type": "code",
      "source": [
        "svc = svm.SVC(kernel='linear')\n",
        "svc.fit(X_train,y_train)\n",
        "y_pred = svc.predict(X_test)\n",
        "print(accuracy_score(y_test,y_pred))\n",
        "print(confusion_matrix(y_test,y_pred))\n",
        "print(classification_report(y_test, y_pred))"
      ],
      "metadata": {
        "colab": {
          "base_uri": "https://localhost:8080/"
        },
        "id": "leG8qVqskiyF",
        "outputId": "7049eea0-4f9c-494f-c441-69cf56ad0cf1"
      },
      "execution_count": null,
      "outputs": [
        {
          "output_type": "stream",
          "name": "stdout",
          "text": [
            "0.794434980124929\n",
            "[[1162  138]\n",
            " [ 224  237]]\n",
            "              precision    recall  f1-score   support\n",
            "\n",
            "           0       0.84      0.89      0.87      1300\n",
            "           1       0.63      0.51      0.57       461\n",
            "\n",
            "    accuracy                           0.79      1761\n",
            "   macro avg       0.74      0.70      0.72      1761\n",
            "weighted avg       0.78      0.79      0.79      1761\n",
            "\n"
          ]
        }
      ]
    },
    {
      "cell_type": "markdown",
      "source": [
        "Experiment 2 (kernel='rbf')"
      ],
      "metadata": {
        "id": "qnhELsHKrgZi"
      }
    },
    {
      "cell_type": "code",
      "source": [
        "svc = svm.SVC(kernel='rbf')\n",
        "svc.fit(X_train,y_train)\n",
        "y_pred = svc.predict(X_test)\n",
        "print(accuracy_score(y_test,y_pred))\n",
        "print(confusion_matrix(y_test,y_pred))\n",
        "print(classification_report(y_test, y_pred))"
      ],
      "metadata": {
        "colab": {
          "base_uri": "https://localhost:8080/"
        },
        "outputId": "16bab1e6-5d87-40f3-ffd3-4e62be3d62b8",
        "id": "HnJ9hIXjrgZj"
      },
      "execution_count": null,
      "outputs": [
        {
          "output_type": "stream",
          "name": "stdout",
          "text": [
            "0.7995457126632595\n",
            "[[1204   96]\n",
            " [ 257  204]]\n",
            "              precision    recall  f1-score   support\n",
            "\n",
            "           0       0.82      0.93      0.87      1300\n",
            "           1       0.68      0.44      0.54       461\n",
            "\n",
            "    accuracy                           0.80      1761\n",
            "   macro avg       0.75      0.68      0.70      1761\n",
            "weighted avg       0.79      0.80      0.78      1761\n",
            "\n"
          ]
        }
      ]
    },
    {
      "cell_type": "markdown",
      "source": [
        "Experiment 3 (kernel='poly')"
      ],
      "metadata": {
        "id": "zJwa3UNPsE76"
      }
    },
    {
      "cell_type": "code",
      "source": [
        "svc = svm.SVC(kernel='poly')\n",
        "svc.fit(X_train,y_train)\n",
        "y_pred = svc.predict(X_test)\n",
        "print(accuracy_score(y_test,y_pred))\n",
        "print(confusion_matrix(y_test,y_pred))\n",
        "print(classification_report(y_test, y_pred))"
      ],
      "metadata": {
        "colab": {
          "base_uri": "https://localhost:8080/"
        },
        "outputId": "f539648e-73b8-43d1-bade-87276aead88c",
        "id": "zGx8FpzFsE76"
      },
      "execution_count": null,
      "outputs": [
        {
          "output_type": "stream",
          "name": "stdout",
          "text": [
            "0.7921635434412265\n",
            "[[1194  106]\n",
            " [ 260  201]]\n",
            "              precision    recall  f1-score   support\n",
            "\n",
            "           0       0.82      0.92      0.87      1300\n",
            "           1       0.65      0.44      0.52       461\n",
            "\n",
            "    accuracy                           0.79      1761\n",
            "   macro avg       0.74      0.68      0.70      1761\n",
            "weighted avg       0.78      0.79      0.78      1761\n",
            "\n"
          ]
        }
      ]
    },
    {
      "cell_type": "markdown",
      "source": [
        "# Stochastic Gradient Descent"
      ],
      "metadata": {
        "id": "KzZWEsIUsSZA"
      }
    },
    {
      "cell_type": "markdown",
      "source": [
        "Experiment 1 (penalty=\"l2\")"
      ],
      "metadata": {
        "id": "SlMNA773sap-"
      }
    },
    {
      "cell_type": "code",
      "source": [
        "# Applying Stochastic-Gradient-Descent Classifier + Evaluation\n",
        "sgd = SGDClassifier(penalty=\"l2\")\n",
        "sgd.fit(X_train,y_train)\n",
        "y_pred = sgd.predict(X_test)\n",
        "print(accuracy_score(y_test,y_pred))\n",
        "print(confusion_matrix(y_test,y_pred))\n",
        "print(classification_report(y_test, y_pred))"
      ],
      "metadata": {
        "colab": {
          "base_uri": "https://localhost:8080/"
        },
        "id": "LrCYjI4Tk1gJ",
        "outputId": "b705ebd8-a6b1-4fbe-8f21-812b190482b1"
      },
      "execution_count": null,
      "outputs": [
        {
          "output_type": "stream",
          "name": "stdout",
          "text": [
            "0.7859170925610448\n",
            "[[1174  126]\n",
            " [ 251  210]]\n",
            "              precision    recall  f1-score   support\n",
            "\n",
            "           0       0.82      0.90      0.86      1300\n",
            "           1       0.62      0.46      0.53       461\n",
            "\n",
            "    accuracy                           0.79      1761\n",
            "   macro avg       0.72      0.68      0.69      1761\n",
            "weighted avg       0.77      0.79      0.77      1761\n",
            "\n"
          ]
        }
      ]
    },
    {
      "cell_type": "markdown",
      "source": [
        "Experiment 2 (penalty=\"l1\")"
      ],
      "metadata": {
        "id": "M0wXvL4Ks23t"
      }
    },
    {
      "cell_type": "code",
      "source": [
        "# Applying Stochastic-Gradient-Descent Classifier + Evaluation\n",
        "sgd = SGDClassifier(penalty=\"l1\")\n",
        "sgd.fit(X_train,y_train)\n",
        "y_pred = sgd.predict(X_test)\n",
        "print(accuracy_score(y_test,y_pred))\n",
        "print(confusion_matrix(y_test,y_pred))\n",
        "print(classification_report(y_test, y_pred))"
      ],
      "metadata": {
        "colab": {
          "base_uri": "https://localhost:8080/"
        },
        "outputId": "34336092-c18d-4c87-aa3e-fe802988050a",
        "id": "ykRnfZ_Qs23u"
      },
      "execution_count": null,
      "outputs": [
        {
          "output_type": "stream",
          "name": "stdout",
          "text": [
            "0.7796706416808632\n",
            "[[1115  185]\n",
            " [ 203  258]]\n",
            "              precision    recall  f1-score   support\n",
            "\n",
            "           0       0.85      0.86      0.85      1300\n",
            "           1       0.58      0.56      0.57       461\n",
            "\n",
            "    accuracy                           0.78      1761\n",
            "   macro avg       0.71      0.71      0.71      1761\n",
            "weighted avg       0.78      0.78      0.78      1761\n",
            "\n"
          ]
        }
      ]
    },
    {
      "cell_type": "markdown",
      "source": [
        "Experiment 3 (penalty=\"elasticnet\")"
      ],
      "metadata": {
        "id": "k42jJSpxtA5n"
      }
    },
    {
      "cell_type": "code",
      "source": [
        "# Applying Stochastic-Gradient-Descent Classifier + Evaluation\n",
        "sgd = SGDClassifier(penalty=\"elasticnet\")\n",
        "sgd.fit(X_train,y_train)\n",
        "y_pred = sgd.predict(X_test)\n",
        "print(accuracy_score(y_test,y_pred))\n",
        "print(confusion_matrix(y_test,y_pred))\n",
        "print(classification_report(y_test, y_pred))"
      ],
      "metadata": {
        "colab": {
          "base_uri": "https://localhost:8080/"
        },
        "outputId": "65aeb240-8a3b-4f6b-e1fa-544f10d1036e",
        "id": "sw50zQWFtA5o"
      },
      "execution_count": null,
      "outputs": [
        {
          "output_type": "stream",
          "name": "stdout",
          "text": [
            "0.7762634866553095\n",
            "[[1060  240]\n",
            " [ 154  307]]\n",
            "              precision    recall  f1-score   support\n",
            "\n",
            "           0       0.87      0.82      0.84      1300\n",
            "           1       0.56      0.67      0.61       461\n",
            "\n",
            "    accuracy                           0.78      1761\n",
            "   macro avg       0.72      0.74      0.73      1761\n",
            "weighted avg       0.79      0.78      0.78      1761\n",
            "\n"
          ]
        }
      ]
    }
  ]
}